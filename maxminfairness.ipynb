{
 "cells": [
  {
   "cell_type": "code",
   "execution_count": 46,
   "metadata": {},
   "outputs": [
    {
     "name": "stdout",
     "output_type": "stream",
     "text": [
      "On pipe 1, there is a total T1 =  50 x 0.02 = 1.0\n",
      "On pipe 2, there is a total T2 =  70 x 0.07142857142857142 = 5.0\n",
      "In total 6.0 throughput\n",
      "On pipe 1, there is a total T1 =  1 x 1.0 = 1.0\n",
      "On pipe 2, there is a total T2 =  69 x 0.07246376811594203 = 5.0\n",
      "In total 6.0 throughput\n",
      "On pipe 1, there is a total T1 =  49 x 0.02040816326530612 = 0.9999999999999999\n",
      "On pipe 2, there is a total T2 =  1 x 5.0 = 5.0\n",
      "In total 6.0 throughput\n"
     ]
    }
   ],
   "source": [
    "A=1\n",
    "B=7\n",
    "C=5\n",
    "\n",
    "def f(n1,n2):\n",
    "    x1 = 0\n",
    "    x2 = 0\n",
    "    x = min(A/n1, B/(n1+n2), C/(n2))\n",
    "    if(x == min(A/n1,B/(n1+n2))):\n",
    "        x1 = x\n",
    "    if(x==min(B/(n1+n2), C/n2)):\n",
    "        x2 = x\n",
    "    \n",
    "    if(x1==0):\n",
    "        x1 = min(A/n1,(B-n2*x2)/n1)\n",
    "    if(x2==0):\n",
    "        x2 = min(C/n2, (B-n1*x1)/n2)\n",
    "    \n",
    "    print(f\"On pipe 1, there is a total T1 =  {n1} x {x1} = {n1*x1}\")\n",
    "    print(f\"On pipe 2, there is a total T2 =  {n2} x {x2} = {n2*x2}\")\n",
    "    print(f\"In total {n1*x1+n2*x2} throughput\")\n",
    "\n",
    "f(50,70)\n",
    "f(1,69)\n",
    "f(49,1)\n"
   ]
  },
  {
   "cell_type": "code",
   "execution_count": 34,
   "metadata": {},
   "outputs": [
    {
     "name": "stdout",
     "output_type": "stream",
     "text": [
      "0.7112499999999999\n",
      "0.98875\n"
     ]
    }
   ],
   "source": [
    "print((0.7+0.7225)/2)\n",
    "print((1.0+0.9775)/2)"
   ]
  },
  {
   "cell_type": "code",
   "execution_count": null,
   "metadata": {},
   "outputs": [],
   "source": []
  }
 ],
 "metadata": {
  "kernelspec": {
   "display_name": "Python 3",
   "language": "python",
   "name": "python3"
  },
  "language_info": {
   "codemirror_mode": {
    "name": "ipython",
    "version": 3
   },
   "file_extension": ".py",
   "mimetype": "text/x-python",
   "name": "python",
   "nbconvert_exporter": "python",
   "pygments_lexer": "ipython3",
   "version": "3.8.5"
  },
  "orig_nbformat": 4,
  "vscode": {
   "interpreter": {
    "hash": "082e9a3bcad0a290d0001e938aa60b99250c6c2ef33a923c00b70f9826caf4b7"
   }
  }
 },
 "nbformat": 4,
 "nbformat_minor": 2
}
